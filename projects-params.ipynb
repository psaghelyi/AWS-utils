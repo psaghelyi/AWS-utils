{
 "cells": [
  {
   "cell_type": "code",
   "execution_count": 22,
   "metadata": {},
   "outputs": [
    {
     "name": "stdout",
     "output_type": "stream",
     "text": [
      "3141.84s - pydevd: Sending message related to process being replaced timed-out after 5 seconds\n",
      "Collecting prettytable\n",
      "  Downloading prettytable-3.9.0-py3-none-any.whl.metadata (26 kB)\n",
      "Requirement already satisfied: wcwidth in /Users/psaghelyi-remote/Library/Python/3.11/lib/python/site-packages (from prettytable) (0.2.6)\n",
      "Downloading prettytable-3.9.0-py3-none-any.whl (27 kB)\n",
      "Installing collected packages: prettytable\n",
      "Successfully installed prettytable-3.9.0\n",
      "Note: you may need to restart the kernel to use updated packages.\n"
     ]
    }
   ],
   "source": [
    "%pip install prettytable"
   ]
  },
  {
   "cell_type": "code",
   "execution_count": 24,
   "metadata": {},
   "outputs": [],
   "source": [
    "import boto3\n",
    "import subprocess\n",
    "import json\n",
    "import os\n",
    "import time\n",
    "from prettytable import PrettyTable"
   ]
  },
  {
   "cell_type": "markdown",
   "metadata": {},
   "source": [
    "## Step 1: Create session and client"
   ]
  },
  {
   "cell_type": "code",
   "execution_count": 2,
   "metadata": {},
   "outputs": [
    {
     "name": "stdout",
     "output_type": "stream",
     "text": [
      "Current AWS Account ID: 707785685172\n"
     ]
    }
   ],
   "source": [
    "def set_aws_credentials(profile, region_name='us-east-1'):\n",
    "    result = subprocess.run(f\"aws-vault exec {profile} --json\", shell=True, capture_output=True)\n",
    "    credentials = json.loads(result.stdout)\n",
    "\n",
    "    # Create a session with the retrieved credentials\n",
    "    session = boto3.session.Session(\n",
    "        aws_access_key_id=credentials['AccessKeyId'],\n",
    "        aws_secret_access_key=credentials['SecretAccessKey'],\n",
    "        aws_session_token=credentials['SessionToken'],\n",
    "        region_name=region_name        \n",
    "    )\n",
    "\n",
    "    return session\n",
    "\n"
   ]
  },
  {
   "cell_type": "code",
   "execution_count": 26,
   "metadata": {},
   "outputs": [
    {
     "name": "stdout",
     "output_type": "stream",
     "text": [
      "Region us-east-1 - Min Tasks: 8, Max Tasks: 64, Actual Tasks: 41 (58.93%)\n",
      "Region eu-central-1 - Min Tasks: 8, Max Tasks: 64, Actual Tasks: 64 (100.0%)\n",
      "Region af-south-1 - Min Tasks: 4, Max Tasks: 4, Actual Tasks: 4 (100%)\n",
      "Region ca-central-1 - Min Tasks: 4, Max Tasks: 4, Actual Tasks: 4 (100%)\n",
      "Region ap-northeast-1 - Min Tasks: 4, Max Tasks: 4, Actual Tasks: 4 (100%)\n",
      "Region ap-southeast-1 - Min Tasks: 4, Max Tasks: 4, Actual Tasks: 4 (100%)\n",
      "+----------------+-----------+-----------+--------------+-----------------+\n",
      "|     Region     | Min Tasks | Max Tasks | Actual Tasks | Utilization (%) |\n",
      "+----------------+-----------+-----------+--------------+-----------------+\n",
      "|   us-east-1    |     8     |     64    |      41      |      58.93      |\n",
      "|  eu-central-1  |     8     |     64    |      64      |      100.0      |\n",
      "|   af-south-1   |     4     |     4     |      4       |       100       |\n",
      "|  ca-central-1  |     4     |     4     |      4       |       100       |\n",
      "| ap-northeast-1 |     4     |     4     |      4       |       100       |\n",
      "| ap-southeast-1 |     4     |     4     |      4       |       100       |\n",
      "+----------------+-----------+-----------+--------------+-----------------+\n"
     ]
    }
   ],
   "source": [
    "# Specify your cluster and service name\n",
    "cluster_name = 'EcsCluster1-main'\n",
    "service_name = 'projects-application-fargate-main'\n",
    "\n",
    "\n",
    "def getScalingDetails(region_name='us-east-1'):\n",
    "    # Use the function with your profile to get a session\n",
    "    aws_session = set_aws_credentials('acl-production', region_name=region_name)\n",
    "\n",
    "    # Create ECS client using the session\n",
    "    ecs_client = aws_session.client('ecs')\n",
    "    app_scaling_client = aws_session.client('application-autoscaling')\n",
    "\n",
    "    # Fetch the details of the specified service\n",
    "    response = ecs_client.describe_services(\n",
    "        cluster=cluster_name,\n",
    "        services=[service_name]\n",
    "    )\n",
    "\n",
    "    service_info = response['services'][0]\n",
    "    desired_tasks = service_info['desiredCount']\n",
    "    \n",
    "    # Resource ID format for ECS services: service/<clusterName>/<serviceName>\n",
    "    resource_id = f\"service/{cluster_name}/{service_name}\"\n",
    "\n",
    "    # Check for scalable targets\n",
    "    scalable_targets = app_scaling_client.describe_scalable_targets(\n",
    "        ServiceNamespace='ecs',\n",
    "        ResourceIds=[resource_id],\n",
    "        ScalableDimension='ecs:service:DesiredCount'\n",
    "    )\n",
    "    \n",
    "    if scalable_targets['ScalableTargets']:\n",
    "        # Extract min and max tasks from the first scaling policy\n",
    "        target = scalable_targets['ScalableTargets'][0]\n",
    "        min_tasks = target['MinCapacity']\n",
    "        max_tasks = target['MaxCapacity']\n",
    "        return min_tasks, max_tasks, desired_tasks\n",
    "    else:\n",
    "        # No scaling policy, return the current desired count\n",
    "        return desired_tasks, desired_tasks, desired_tasks\n",
    "    \n",
    "\n",
    "table = PrettyTable()\n",
    "table.field_names = [\"Region\", \"Min Tasks\", \"Max Tasks\", \"Actual Tasks\", \"Utilization (%)\"]\n",
    "\n",
    "regions = ['us-east-1',\n",
    "           'eu-central-1', \n",
    "           'af-south-1',\n",
    "           'ca-central-1',\n",
    "           'ap-northeast-1',\n",
    "           'ap-southeast-1',\n",
    "           ]\n",
    "\n",
    "for region in regions:\n",
    "    min_tasks, max_tasks, desired_tasks = getScalingDetails(region_name=region)\n",
    "    percentage = round((desired_tasks-min_tasks)/(max_tasks-min_tasks)*100.,2) if max_tasks > min_tasks else 100\n",
    "    print(f\"Region {region} - Min Tasks: {min_tasks}, Max Tasks: {max_tasks}, Actual Tasks: {desired_tasks} ({percentage}%)\")\n",
    "    table.add_row([region, min_tasks, max_tasks, desired_tasks, percentage])\n",
    "\n",
    "print(table)\n"
   ]
  },
  {
   "cell_type": "markdown",
   "metadata": {},
   "source": []
  },
  {
   "cell_type": "code",
   "execution_count": null,
   "metadata": {},
   "outputs": [],
   "source": []
  }
 ],
 "metadata": {
  "kernelspec": {
   "display_name": "Python 3",
   "language": "python",
   "name": "python3"
  },
  "language_info": {
   "codemirror_mode": {
    "name": "ipython",
    "version": 3
   },
   "file_extension": ".py",
   "mimetype": "text/x-python",
   "name": "python",
   "nbconvert_exporter": "python",
   "pygments_lexer": "ipython3",
   "version": "3.11.6"
  }
 },
 "nbformat": 4,
 "nbformat_minor": 2
}
