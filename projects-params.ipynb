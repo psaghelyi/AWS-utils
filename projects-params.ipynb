{
 "cells": [
  {
   "cell_type": "code",
   "execution_count": 24,
   "metadata": {},
   "outputs": [
    {
     "name": "stdout",
     "output_type": "stream",
     "text": [
      "1070.98s - pydevd: Sending message related to process being replaced timed-out after 5 seconds\n",
      "Requirement already satisfied: pip in /Users/psaghelyi-remote/.pyenv/versions/3.11.3/lib/python3.11/site-packages (23.3.1)\n",
      "Note: you may need to restart the kernel to use updated packages.\n",
      "1077.48s - pydevd: Sending message related to process being replaced timed-out after 5 seconds\n",
      "Requirement already satisfied: boto3 in /Users/psaghelyi-remote/.pyenv/versions/3.11.3/lib/python3.11/site-packages (1.33.1)\n",
      "Requirement already satisfied: prettytable in /Users/psaghelyi-remote/.pyenv/versions/3.11.3/lib/python3.11/site-packages (3.9.0)\n",
      "Requirement already satisfied: botocore<1.34.0,>=1.33.1 in /Users/psaghelyi-remote/.pyenv/versions/3.11.3/lib/python3.11/site-packages (from boto3) (1.33.1)\n",
      "Requirement already satisfied: jmespath<2.0.0,>=0.7.1 in /Users/psaghelyi-remote/.pyenv/versions/3.11.3/lib/python3.11/site-packages (from boto3) (1.0.1)\n",
      "Requirement already satisfied: s3transfer<0.9.0,>=0.8.0 in /Users/psaghelyi-remote/.pyenv/versions/3.11.3/lib/python3.11/site-packages (from boto3) (0.8.0)\n",
      "Requirement already satisfied: wcwidth in /Users/psaghelyi-remote/.pyenv/versions/3.11.3/lib/python3.11/site-packages (from prettytable) (0.2.6)\n",
      "Requirement already satisfied: python-dateutil<3.0.0,>=2.1 in /Users/psaghelyi-remote/.pyenv/versions/3.11.3/lib/python3.11/site-packages (from botocore<1.34.0,>=1.33.1->boto3) (2.8.2)\n",
      "Requirement already satisfied: urllib3<2.1,>=1.25.4 in /Users/psaghelyi-remote/.pyenv/versions/3.11.3/lib/python3.11/site-packages (from botocore<1.34.0,>=1.33.1->boto3) (1.26.15)\n",
      "Requirement already satisfied: six>=1.5 in /Users/psaghelyi-remote/.pyenv/versions/3.11.3/lib/python3.11/site-packages (from python-dateutil<3.0.0,>=2.1->botocore<1.34.0,>=1.33.1->boto3) (1.16.0)\n",
      "Note: you may need to restart the kernel to use updated packages.\n"
     ]
    }
   ],
   "source": [
    "%pip install --upgrade pip\n",
    "%pip install boto3 prettytable"
   ]
  },
  {
   "cell_type": "code",
   "execution_count": 25,
   "metadata": {},
   "outputs": [],
   "source": [
    "import boto3\n",
    "import subprocess\n",
    "import json\n",
    "import os\n",
    "import time\n",
    "from prettytable import PrettyTable"
   ]
  },
  {
   "cell_type": "markdown",
   "metadata": {},
   "source": [
    "## Step 1: Create session and client"
   ]
  },
  {
   "cell_type": "code",
   "execution_count": 26,
   "metadata": {},
   "outputs": [],
   "source": [
    "def set_aws_credentials(profile, region_name='us-east-1'):\n",
    "    result = subprocess.run(f\"aws-vault exec {profile} --json\", shell=True, capture_output=True)\n",
    "    credentials = json.loads(result.stdout)\n",
    "\n",
    "    # Create a session with the retrieved credentials\n",
    "    session = boto3.session.Session(\n",
    "        aws_access_key_id=credentials['AccessKeyId'],\n",
    "        aws_secret_access_key=credentials['SecretAccessKey'],\n",
    "        aws_session_token=credentials['SessionToken'],\n",
    "        region_name=region_name        \n",
    "    )\n",
    "\n",
    "    return session\n",
    "\n"
   ]
  },
  {
   "cell_type": "markdown",
   "metadata": {},
   "source": [
    "## Get Service Scaling Parameters and Status"
   ]
  },
  {
   "cell_type": "code",
   "execution_count": 27,
   "metadata": {},
   "outputs": [],
   "source": [
    "def getScalingDetails(cluster_name, service_name, region_name='us-east-1'):\n",
    "    # Use the function with your profile to get a session\n",
    "    aws_session = set_aws_credentials('acl-production', region_name=region_name)\n",
    "\n",
    "    # Create ECS client using the session\n",
    "    ecs_client = aws_session.client('ecs')\n",
    "    app_scaling_client = aws_session.client('application-autoscaling')\n",
    "\n",
    "    # Fetch the details of the specified service\n",
    "    response = ecs_client.describe_services(\n",
    "        cluster=cluster_name,\n",
    "        services=[service_name]\n",
    "    )\n",
    "\n",
    "    service_info = response['services'][0]\n",
    "    desired_tasks = service_info['desiredCount']\n",
    "    \n",
    "    # Resource ID format for ECS services: service/<clusterName>/<serviceName>\n",
    "    resource_id = f\"service/{cluster_name}/{service_name}\"\n",
    "\n",
    "    # Check for scalable targets\n",
    "    scalable_targets = app_scaling_client.describe_scalable_targets(\n",
    "        ServiceNamespace='ecs',\n",
    "        ResourceIds=[resource_id],\n",
    "        ScalableDimension='ecs:service:DesiredCount'\n",
    "    )\n",
    "    \n",
    "    if scalable_targets['ScalableTargets']:\n",
    "        # Extract min and max tasks from the first scaling policy\n",
    "        target = scalable_targets['ScalableTargets'][0]\n",
    "        min_tasks = target['MinCapacity']\n",
    "        max_tasks = target['MaxCapacity']\n",
    "        return min_tasks, max_tasks, desired_tasks\n",
    "    else:\n",
    "        # No scaling policy, return the current desired count\n",
    "        return desired_tasks, desired_tasks, desired_tasks\n"
   ]
  },
  {
   "cell_type": "code",
   "execution_count": 28,
   "metadata": {},
   "outputs": [],
   "source": [
    "def getLoadBalancingAlgorithm(cluster_name, service_name, region_name='us-east-1'):\n",
    "    # Use the function with your profile to get a session\n",
    "    aws_session = set_aws_credentials('acl-production', region_name=region_name)\n",
    "\n",
    "    # Create ECS and ELBv2 clients using the session\n",
    "    ecs_client = aws_session.client('ecs')\n",
    "    elbv2_client = aws_session.client('elbv2')\n",
    "\n",
    "    # Fetch the details of the specified service\n",
    "    response = ecs_client.describe_services(\n",
    "        cluster=cluster_name,\n",
    "        services=[service_name]\n",
    "    )\n",
    "\n",
    "    service_info = response['services'][0]\n",
    "    tg_arns = [lb['targetGroupArn'] for lb in service_info['loadBalancers']]\n",
    "    target_groups = elbv2_client.describe_target_groups(TargetGroupArns=tg_arns)['TargetGroups']\n",
    "    for target_group in target_groups:\n",
    "        if target_group['TargetGroupName'] == 'projects-main-fg':\n",
    "                # Fetch attributes of the target group\n",
    "                attributes = elbv2_client.describe_target_group_attributes(\n",
    "                    TargetGroupArn=target_group['TargetGroupArn']\n",
    "                )\n",
    "                # Find and return the load balancing algorithm attribute\n",
    "                for attr in attributes['Attributes']:\n",
    "                    if attr['Key'] == 'load_balancing.algorithm.type':\n",
    "                        return attr['Value']\n",
    "    \n",
    "    return \"Not Found\""
   ]
  },
  {
   "cell_type": "code",
   "execution_count": 29,
   "metadata": {},
   "outputs": [
    {
     "name": "stdout",
     "output_type": "stream",
     "text": [
      "Region us-east-1 - Min Tasks: 8, Max Tasks: 64, Actual Tasks: 33 (44.64%), Algorithm: round_robin\n",
      "Region eu-central-1 - Min Tasks: 8, Max Tasks: 64, Actual Tasks: 64 (100.0%), Algorithm: round_robin\n",
      "Region af-south-1 - Min Tasks: 4, Max Tasks: 4, Actual Tasks: 4 (100%), Algorithm: round_robin\n",
      "Region ca-central-1 - Min Tasks: 4, Max Tasks: 4, Actual Tasks: 4 (100%), Algorithm: round_robin\n",
      "Region ap-northeast-1 - Min Tasks: 4, Max Tasks: 4, Actual Tasks: 4 (100%), Algorithm: round_robin\n",
      "Region ap-southeast-1 - Min Tasks: 4, Max Tasks: 4, Actual Tasks: 4 (100%), Algorithm: round_robin\n",
      "+----------------+-----------+-----------+--------------+-----------------+-------------+\n",
      "|     Region     | Min Tasks | Max Tasks | Actual Tasks | Utilization (%) |  Algorithm  |\n",
      "+----------------+-----------+-----------+--------------+-----------------+-------------+\n",
      "|   us-east-1    |     8     |     64    |      33      |      44.64      | round_robin |\n",
      "|  eu-central-1  |     8     |     64    |      64      |      100.0      | round_robin |\n",
      "|   af-south-1   |     4     |     4     |      4       |       100       | round_robin |\n",
      "|  ca-central-1  |     4     |     4     |      4       |       100       | round_robin |\n",
      "| ap-northeast-1 |     4     |     4     |      4       |       100       | round_robin |\n",
      "| ap-southeast-1 |     4     |     4     |      4       |       100       | round_robin |\n",
      "+----------------+-----------+-----------+--------------+-----------------+-------------+\n"
     ]
    }
   ],
   "source": [
    "# Specify your cluster and service name\n",
    "cluster_name = 'EcsCluster1-main'\n",
    "service_name = 'projects-application-fargate-main'\n",
    "\n",
    "\n",
    "table = PrettyTable()\n",
    "table.field_names = [\"Region\", \"Min Tasks\", \"Max Tasks\", \"Actual Tasks\", \"Utilization (%)\", \"Algorithm\"]\n",
    "\n",
    "regions = ['us-east-1',\n",
    "           'eu-central-1', \n",
    "           'af-south-1',\n",
    "           'ca-central-1',\n",
    "           'ap-northeast-1',\n",
    "           'ap-southeast-1',\n",
    "           ]\n",
    "\n",
    "for region in regions:\n",
    "    min_tasks, max_tasks, desired_tasks = getScalingDetails(cluster_name, service_name, region_name=region)\n",
    "    algorithm = getLoadBalancingAlgorithm(cluster_name, service_name, region_name=region)\n",
    "    percentage = round((desired_tasks-min_tasks)/(max_tasks-min_tasks)*100.,2) if max_tasks > min_tasks else 100\n",
    "    print(f\"Region {region} - Min Tasks: {min_tasks}, Max Tasks: {max_tasks}, Actual Tasks: {desired_tasks} ({percentage}%), Algorithm: {algorithm}\")\n",
    "    table.add_row([region, min_tasks, max_tasks, desired_tasks, percentage, algorithm])\n",
    "\n",
    "print(table)"
   ]
  },
  {
   "cell_type": "code",
   "execution_count": null,
   "metadata": {},
   "outputs": [],
   "source": []
  }
 ],
 "metadata": {
  "kernelspec": {
   "display_name": "Python 3",
   "language": "python",
   "name": "python3"
  },
  "language_info": {
   "codemirror_mode": {
    "name": "ipython",
    "version": 3
   },
   "file_extension": ".py",
   "mimetype": "text/x-python",
   "name": "python",
   "nbconvert_exporter": "python",
   "pygments_lexer": "ipython3",
   "version": "3.11.3"
  }
 },
 "nbformat": 4,
 "nbformat_minor": 2
}
