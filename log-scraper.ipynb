{
 "cells": [
  {
   "cell_type": "code",
   "execution_count": 1,
   "metadata": {},
   "outputs": [],
   "source": [
    "import json\n",
    "import subprocess\n",
    "from datetime import datetime"
   ]
  },
  {
   "cell_type": "markdown",
   "metadata": {},
   "source": [
    "## Get log stream list"
   ]
  },
  {
   "cell_type": "code",
   "execution_count": 4,
   "metadata": {},
   "outputs": [
    {
     "name": "stdout",
     "output_type": "stream",
     "text": [
      "Script executed successfully.\n",
      "Output written to application-log-groups.json\n"
     ]
    }
   ],
   "source": [
    "def call_shell_script(script_path, *args, output_file=None):\n",
    "    # Prepare the command with arguments\n",
    "    command = [script_path] + list(args)\n",
    "\n",
    "    # Call the shell script\n",
    "    result = subprocess.run(command, capture_output=True, text=True)\n",
    "\n",
    "    # Check if the script executed successfully\n",
    "    if result.returncode == 0:\n",
    "        print(\"Script executed successfully.\")\n",
    "        if output_file:\n",
    "            # Write output to the specified file\n",
    "            with open(output_file, 'w') as file:\n",
    "                file.write(result.stdout)\n",
    "            print(f\"Output written to {output_file}\")\n",
    "        else:\n",
    "            # Print output to console\n",
    "            print(\"Output:\\n\", result.stdout)\n",
    "    else:\n",
    "        print(\"Script execution failed.\")\n",
    "        print(\"Error:\\n\", result.stderr)\n",
    "   \n",
    "\n",
    "script_path = './get-log-streams.sh'\n",
    "aws_profile = 'acl-production'\n",
    "aws_region = 'us-east-1'\n",
    "log_group_name = 'projects-main'\n",
    "log_stream_prefix = 'application/application'\n",
    "output_file = 'application-log-streams.json'\n",
    "\n",
    "call_shell_script(script_path, aws_profile, aws_region, log_group_name, log_stream_prefix, output_file=output_file)"
   ]
  },
  {
   "cell_type": "code",
   "execution_count": null,
   "metadata": {},
   "outputs": [],
   "source": [
    "\n",
    "\n",
    "# Path to your JSON file containing the log stream descriptors\n",
    "json_file_path = 'log_streams.json'\n",
    "\n",
    "# Your specified time interval (example format: '2023-01-01 00:00:00')\n",
    "start_time_str = 'your-start-time'\n",
    "end_time_str = 'your-end-time'\n",
    "\n",
    "# Convert time strings to timestamps\n",
    "start_timestamp = int(datetime.strptime(start_time_str, '%Y-%m-%d %H:%M:%S').timestamp()) * 1000\n",
    "end_timestamp = int(datetime.strptime(end_time_str, '%Y-%m-%d %H:%M:%S').timestamp()) * 1000\n",
    "\n",
    "# Load JSON data\n",
    "with open(json_file_path, 'r') as file:\n",
    "    data = json.load(file)\n",
    "\n",
    "# Filter log streams based on time interval\n",
    "filtered_log_streams = [stream for stream in data['logStreams']\n",
    "                        if stream['firstEventTimestamp'] <= end_timestamp and\n",
    "                        stream['lastEventTimestamp'] >= start_timestamp]\n",
    "\n",
    "# AWS CLI command to get log events\n",
    "log_group_name = 'your-log-group-name'  # Replace with your log group name\n",
    "for stream in filtered_log_streams:\n",
    "    log_stream_name = stream['logStreamName']\n",
    "    output_file_name = f\"{log_stream_name.replace('/', '_')}.txt\"\n",
    "    command = f\"aws logs get-log-events --log-group-name {log_group_name} --log-stream-name \\\"{log_stream_name}\\\" --start-time {start_timestamp} --end-time {end_timestamp} > {output_file_name}\"\n",
    "    subprocess.run(command, shell=True)\n",
    "\n",
    "print(\"Logs downloaded for filtered streams.\")\n"
   ]
  }
 ],
 "metadata": {
  "kernelspec": {
   "display_name": "Python 3",
   "language": "python",
   "name": "python3"
  },
  "language_info": {
   "codemirror_mode": {
    "name": "ipython",
    "version": 3
   },
   "file_extension": ".py",
   "mimetype": "text/x-python",
   "name": "python",
   "nbconvert_exporter": "python",
   "pygments_lexer": "ipython3",
   "version": "3.10.13"
  }
 },
 "nbformat": 4,
 "nbformat_minor": 2
}
