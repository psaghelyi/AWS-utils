{
 "cells": [
  {
   "cell_type": "code",
   "execution_count": 8,
   "metadata": {},
   "outputs": [
    {
     "name": "stdout",
     "output_type": "stream",
     "text": [
      "Requirement already satisfied: matplotlib in /Users/psaghelyi-remote/.pyenv/versions/3.11.3/envs/AWS-utils/lib/python3.11/site-packages (3.8.2)\n",
      "Requirement already satisfied: pandas in /Users/psaghelyi-remote/.pyenv/versions/3.11.3/envs/AWS-utils/lib/python3.11/site-packages (2.2.0)\n",
      "Collecting prettytable\n",
      "  Using cached prettytable-3.9.0-py3-none-any.whl (27 kB)\n",
      "Requirement already satisfied: contourpy>=1.0.1 in /Users/psaghelyi-remote/.pyenv/versions/3.11.3/envs/AWS-utils/lib/python3.11/site-packages (from matplotlib) (1.2.0)\n",
      "Requirement already satisfied: cycler>=0.10 in /Users/psaghelyi-remote/.pyenv/versions/3.11.3/envs/AWS-utils/lib/python3.11/site-packages (from matplotlib) (0.12.1)\n",
      "Requirement already satisfied: fonttools>=4.22.0 in /Users/psaghelyi-remote/.pyenv/versions/3.11.3/envs/AWS-utils/lib/python3.11/site-packages (from matplotlib) (4.47.2)\n",
      "Requirement already satisfied: kiwisolver>=1.3.1 in /Users/psaghelyi-remote/.pyenv/versions/3.11.3/envs/AWS-utils/lib/python3.11/site-packages (from matplotlib) (1.4.5)\n",
      "Requirement already satisfied: numpy<2,>=1.21 in /Users/psaghelyi-remote/.pyenv/versions/3.11.3/envs/AWS-utils/lib/python3.11/site-packages (from matplotlib) (1.26.3)\n",
      "Requirement already satisfied: packaging>=20.0 in /Users/psaghelyi-remote/.pyenv/versions/3.11.3/envs/AWS-utils/lib/python3.11/site-packages (from matplotlib) (23.2)\n",
      "Requirement already satisfied: pillow>=8 in /Users/psaghelyi-remote/.pyenv/versions/3.11.3/envs/AWS-utils/lib/python3.11/site-packages (from matplotlib) (10.2.0)\n",
      "Requirement already satisfied: pyparsing>=2.3.1 in /Users/psaghelyi-remote/.pyenv/versions/3.11.3/envs/AWS-utils/lib/python3.11/site-packages (from matplotlib) (3.1.1)\n",
      "Requirement already satisfied: python-dateutil>=2.7 in /Users/psaghelyi-remote/.pyenv/versions/3.11.3/envs/AWS-utils/lib/python3.11/site-packages (from matplotlib) (2.8.2)\n",
      "Requirement already satisfied: pytz>=2020.1 in /Users/psaghelyi-remote/.pyenv/versions/3.11.3/envs/AWS-utils/lib/python3.11/site-packages (from pandas) (2023.3.post1)\n",
      "Requirement already satisfied: tzdata>=2022.7 in /Users/psaghelyi-remote/.pyenv/versions/3.11.3/envs/AWS-utils/lib/python3.11/site-packages (from pandas) (2023.4)\n",
      "Requirement already satisfied: wcwidth in /Users/psaghelyi-remote/.pyenv/versions/3.11.3/envs/AWS-utils/lib/python3.11/site-packages (from prettytable) (0.2.13)\n",
      "Requirement already satisfied: six>=1.5 in /Users/psaghelyi-remote/.pyenv/versions/3.11.3/envs/AWS-utils/lib/python3.11/site-packages (from python-dateutil>=2.7->matplotlib) (1.16.0)\n",
      "Installing collected packages: prettytable\n",
      "Successfully installed prettytable-3.9.0\n",
      "\n",
      "\u001b[1m[\u001b[0m\u001b[34;49mnotice\u001b[0m\u001b[1;39;49m]\u001b[0m\u001b[39;49m A new release of pip available: \u001b[0m\u001b[31;49m22.3.1\u001b[0m\u001b[39;49m -> \u001b[0m\u001b[32;49m23.3.2\u001b[0m\n",
      "\u001b[1m[\u001b[0m\u001b[34;49mnotice\u001b[0m\u001b[1;39;49m]\u001b[0m\u001b[39;49m To update, run: \u001b[0m\u001b[32;49mpip install --upgrade pip\u001b[0m\n",
      "Note: you may need to restart the kernel to use updated packages.\n"
     ]
    }
   ],
   "source": [
    "%pip install matplotlib pandas prettytable"
   ]
  },
  {
   "cell_type": "code",
   "execution_count": 32,
   "metadata": {},
   "outputs": [
    {
     "name": "stdout",
     "output_type": "stream",
     "text": [
      "(33377, 6)\n",
      "Index(['Service', 'Resource', 'Duration', 'Http Method', 'Status Code',\n",
      "       'active_record.instantiation.record_count'],\n",
      "      dtype='object')\n"
     ]
    }
   ],
   "source": [
    "# Import data from CSV into a panda dataframe from ./extract-2024-01-23T12_29_42.992Z.csv   \n",
    "\n",
    "import pandas as pd\n",
    "import numpy as np\n",
    "import matplotlib.pyplot as plt\n",
    "import matplotlib.dates as mdates\n",
    "import matplotlib.ticker as ticker\n",
    "from datetime import datetime\n",
    "from datetime import timedelta\n",
    "import os\n",
    "import sys\n",
    "\n",
    "# Read CSV file into a panda dataframe\n",
    "df = pd.read_csv('./extract-2024-01-23T12_29_42.992Z.csv', header=0, sep=',', parse_dates=[0], index_col=0)\n",
    "\n",
    "\n",
    "# print number of rows and columns\n",
    "print(df.shape)\n",
    "\n",
    "# print the column names\n",
    "print(df.columns)\n"
   ]
  },
  {
   "cell_type": "code",
   "execution_count": 41,
   "metadata": {},
   "outputs": [
    {
     "name": "stdout",
     "output_type": "stream",
     "text": [
      "+---------------------------------------+----------------+--------------------+\n",
      "|                Resource               |    Duration    |    Record count    |\n",
      "+---------------------------------------+----------------+--------------------+\n",
      "|           \"GroupProjectRole\"          | 0:32:18.348800 | 53457.32551020408  |\n",
      "|         \"EntityResponsibility\"        | 0:22:55.798110 | 51118.686440677964 |\n",
      "| \"CustomProjectPlanningAttributeValue\" | 0:20:16.159170 | 13960.707022834986 |\n",
      "|               \"Signoff\"               | 0:15:14.728880 | 68248.12162162163  |\n",
      "|     \"CustomControlAttributeValue\"     | 0:13:45.311350 | 42503.359628770304 |\n",
      "|               \"Control\"               | 0:11:47.960760 | 84361.17026748971  |\n",
      "|             \"ProjectRole\"             | 0:10:45.424460 | 543950.7462028418  |\n",
      "|               \"FlexDate\"              | 0:10:23.401680 | 100471.67842822775 |\n",
      "|              \"Objective\"              | 0:08:57.982200 | 25771.71602126044  |\n",
      "|          \"ProcessWalkthrough\"         | 0:07:24.332390 |  25906.8064516129  |\n",
      "|             \"ControlTest\"             | 0:06:52.856120 | 96941.85446985447  |\n",
      "|                 \"Risk\"                | 0:06:20.251660 | 54914.85102040816  |\n",
      "|             \"Walkthrough\"             | 0:06:17.431150 |  97882.8617234469  |\n",
      "|               \"Finding\"               | 0:06:12.324000 | 29193.759523809524 |\n",
      "|             \"TestingRound\"            | 0:05:14.081570 | 27494.813153961135 |\n",
      "|    \"CustomObjectiveAttributeValue\"    | 0:04:53.709450 | 28134.603448275862 |\n",
      "| \"CustomControlTestPlanAttributeValue\" | 0:04:32.629660 | 27505.892744479494 |\n",
      "|            \"FindingRetest\"            | 0:03:49.140950 | 27490.491002570696 |\n",
      "|       \"CustomRiskAttributeValue\"      | 0:03:47.587360 | 33610.51046025105  |\n",
      "|   \"CustomControlTestAttributeValue\"   | 0:03:47.013380 | 436076.93475815526 |\n",
      "|          \"FindingRemediation\"         | 0:03:35.647920 | 27245.643243243245 |\n",
      "|   \"CustomWalkthroughAttributeValue\"   | 0:03:33.567070 | 247117.8030456853  |\n",
      "|     \"CustomFindingAttributeValue\"     | 0:03:27.809260 | 68608.23781676413  |\n",
      "|              \"RiskScore\"              | 0:03:13.194860 | 15812.182274247492 |\n",
      "|      \"ActsAsTaggableOn::Tagging\"      | 0:03:03.551140 | 66531.24324324324  |\n",
      "|            \"CosoPrinciples\"           | 0:02:51.756460 | 12608.39033457249  |\n",
      "|                \"Audit\"                | 0:02:40.344670 | 17765.438144329895 |\n",
      "|  \"CustomFindingActionAttributeValue\"  | 0:02:35.511590 | 116017.62025316455 |\n",
      "|          \"ControlAssertions\"          | 0:02:03.855170 | 10935.154362416108 |\n",
      "|             \"ProjectFile\"             | 0:02:03.608060 | 19662.50989010989  |\n",
      "|              \"TimeEntry\"              | 0:01:20.412560 | 83919.03504043126  |\n",
      "|        \"ComplianceRequirement\"        | 0:01:15.579710 | 24329.005102040817 |\n",
      "|            \"FindingAction\"            | 0:01:09.653040 | 50268.155844155845 |\n",
      "|              \"Mitigation\"             | 0:01:09.303620 | 40897.477922077924 |\n",
      "|           \"ControlTestPlan\"           | 0:01:08.965410 | 25891.054200542007 |\n",
      "|              \"Membership\"             | 0:00:44.827840 | 20116.26732673267  |\n",
      "|           \"ProjectPlanning\"           | 0:00:43.888720 | 19420.873684210525 |\n",
      "|       \"ExternalReferenceMapping\"      | 0:00:29.936560 | 86070.52173913043  |\n",
      "|       \"AssuranceObjectiveScore\"       | 0:00:27.390960 | 15363.495867768595 |\n",
      "|            \"ActionComment\"            | 0:00:10.738480 | 17937.739130434784 |\n",
      "+---------------------------------------+----------------+--------------------+\n"
     ]
    }
   ],
   "source": [
    "\n",
    "\n",
    "# get rid of the double quotes first\n",
    "df['Duration_float'] = df['Duration'].str.replace('\"', '')\n",
    "\n",
    "#then get rid of the trailing 'ms' or 's' and multiply by 1000 those wich ended to 's' to convert to milliseconds\n",
    "df['Duration_float'] = df['Duration_float'].str.replace('ms', '')\n",
    "df['Duration_float'] = df['Duration_float'].str.replace('s', '000')\n",
    "\n",
    "# convert Duration to float\n",
    "df['Duration_float'] = df['Duration_float'].astype(float)\n",
    "\n",
    "# group by Resource, sum the Duration and calculate the average active_record.instantiation.record_count\n",
    "df_groupby = df.groupby('Resource').agg({'Duration_float': 'sum', 'active_record.instantiation.record_count': 'mean'}).sort_values(by=['Duration_float'], ascending=False)\n",
    "\n",
    "\n",
    "#df_groupby = df.groupby('Resource').sum().sort_values(by=['Duration_float'], ascending=False)\n",
    "\n",
    "# print df_groupby with prettytable\n",
    "# convert Duration to human readable format\n",
    "\n",
    "from prettytable import PrettyTable\n",
    "x = PrettyTable()\n",
    "x.field_names = [\"Resource\", \"Duration\", \"Record count\"]\n",
    "for index, row in df_groupby.iterrows():\n",
    "    if row['Duration_float'] < 10000:\n",
    "        break\n",
    "    x.add_row([index, timedelta(milliseconds=row['Duration_float']), row['active_record.instantiation.record_count']])\n",
    "print(x)\n",
    "\n",
    "\n"
   ]
  },
  {
   "cell_type": "code",
   "execution_count": null,
   "metadata": {},
   "outputs": [],
   "source": []
  }
 ],
 "metadata": {
  "kernelspec": {
   "display_name": "Python 3",
   "language": "python",
   "name": "python3"
  },
  "language_info": {
   "codemirror_mode": {
    "name": "ipython",
    "version": 3
   },
   "file_extension": ".py",
   "mimetype": "text/x-python",
   "name": "python",
   "nbconvert_exporter": "python",
   "pygments_lexer": "ipython3",
   "version": "3.11.3"
  }
 },
 "nbformat": 4,
 "nbformat_minor": 2
}
