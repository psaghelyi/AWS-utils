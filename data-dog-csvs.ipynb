{
 "cells": [
  {
   "cell_type": "code",
   "execution_count": 2,
   "metadata": {},
   "outputs": [
    {
     "name": "stdout",
     "output_type": "stream",
     "text": [
      "Requirement already satisfied: matplotlib in /Users/psaghelyi-remote/.pyenv/versions/3.11.3/envs/AWS-utils/lib/python3.11/site-packages (3.8.2)\n",
      "Requirement already satisfied: pandas in /Users/psaghelyi-remote/.pyenv/versions/3.11.3/envs/AWS-utils/lib/python3.11/site-packages (2.2.0)\n",
      "Requirement already satisfied: prettytable in /Users/psaghelyi-remote/.pyenv/versions/3.11.3/envs/AWS-utils/lib/python3.11/site-packages (3.9.0)\n",
      "Requirement already satisfied: contourpy>=1.0.1 in /Users/psaghelyi-remote/.pyenv/versions/3.11.3/envs/AWS-utils/lib/python3.11/site-packages (from matplotlib) (1.2.0)\n",
      "Requirement already satisfied: cycler>=0.10 in /Users/psaghelyi-remote/.pyenv/versions/3.11.3/envs/AWS-utils/lib/python3.11/site-packages (from matplotlib) (0.12.1)\n",
      "Requirement already satisfied: fonttools>=4.22.0 in /Users/psaghelyi-remote/.pyenv/versions/3.11.3/envs/AWS-utils/lib/python3.11/site-packages (from matplotlib) (4.47.2)\n",
      "Requirement already satisfied: kiwisolver>=1.3.1 in /Users/psaghelyi-remote/.pyenv/versions/3.11.3/envs/AWS-utils/lib/python3.11/site-packages (from matplotlib) (1.4.5)\n",
      "Requirement already satisfied: numpy<2,>=1.21 in /Users/psaghelyi-remote/.pyenv/versions/3.11.3/envs/AWS-utils/lib/python3.11/site-packages (from matplotlib) (1.26.3)\n",
      "Requirement already satisfied: packaging>=20.0 in /Users/psaghelyi-remote/.pyenv/versions/3.11.3/envs/AWS-utils/lib/python3.11/site-packages (from matplotlib) (23.2)\n",
      "Requirement already satisfied: pillow>=8 in /Users/psaghelyi-remote/.pyenv/versions/3.11.3/envs/AWS-utils/lib/python3.11/site-packages (from matplotlib) (10.2.0)\n",
      "Requirement already satisfied: pyparsing>=2.3.1 in /Users/psaghelyi-remote/.pyenv/versions/3.11.3/envs/AWS-utils/lib/python3.11/site-packages (from matplotlib) (3.1.1)\n",
      "Requirement already satisfied: python-dateutil>=2.7 in /Users/psaghelyi-remote/.pyenv/versions/3.11.3/envs/AWS-utils/lib/python3.11/site-packages (from matplotlib) (2.8.2)\n",
      "Requirement already satisfied: pytz>=2020.1 in /Users/psaghelyi-remote/.pyenv/versions/3.11.3/envs/AWS-utils/lib/python3.11/site-packages (from pandas) (2023.3.post1)\n",
      "Requirement already satisfied: tzdata>=2022.7 in /Users/psaghelyi-remote/.pyenv/versions/3.11.3/envs/AWS-utils/lib/python3.11/site-packages (from pandas) (2023.4)\n",
      "Requirement already satisfied: wcwidth in /Users/psaghelyi-remote/.pyenv/versions/3.11.3/envs/AWS-utils/lib/python3.11/site-packages (from prettytable) (0.2.13)\n",
      "Requirement already satisfied: six>=1.5 in /Users/psaghelyi-remote/.pyenv/versions/3.11.3/envs/AWS-utils/lib/python3.11/site-packages (from python-dateutil>=2.7->matplotlib) (1.16.0)\n",
      "\n",
      "\u001b[1m[\u001b[0m\u001b[34;49mnotice\u001b[0m\u001b[1;39;49m]\u001b[0m\u001b[39;49m A new release of pip available: \u001b[0m\u001b[31;49m22.3.1\u001b[0m\u001b[39;49m -> \u001b[0m\u001b[32;49m23.3.2\u001b[0m\n",
      "\u001b[1m[\u001b[0m\u001b[34;49mnotice\u001b[0m\u001b[1;39;49m]\u001b[0m\u001b[39;49m To update, run: \u001b[0m\u001b[32;49mpip install --upgrade pip\u001b[0m\n",
      "Note: you may need to restart the kernel to use updated packages.\n"
     ]
    }
   ],
   "source": [
    "%pip install matplotlib pandas prettytable"
   ]
  },
  {
   "cell_type": "code",
   "execution_count": 3,
   "metadata": {},
   "outputs": [
    {
     "name": "stderr",
     "output_type": "stream",
     "text": [
      "/var/folders/sb/ph4rxk6j27v6qfqt_n53_bzm0000gq/T/ipykernel_65645/746101287.py:1: DeprecationWarning: \n",
      "Pyarrow will become a required dependency of pandas in the next major release of pandas (pandas 3.0),\n",
      "(to allow more performant data types, such as the Arrow string type, and better interoperability with other libraries)\n",
      "but was not found to be installed on your system.\n",
      "If this would cause problems for you,\n",
      "please provide us feedback at https://github.com/pandas-dev/pandas/issues/54466\n",
      "        \n",
      "  import pandas as pd\n"
     ]
    }
   ],
   "source": [
    "import pandas as pd\n",
    "import numpy as np\n",
    "import matplotlib.pyplot as plt\n",
    "import matplotlib.dates as mdates\n",
    "import matplotlib.ticker as ticker\n",
    "from datetime import datetime\n",
    "from datetime import timedelta\n",
    "import os\n",
    "import sys"
   ]
  },
  {
   "cell_type": "code",
   "execution_count": 4,
   "metadata": {},
   "outputs": [],
   "source": [
    "def import_data(fname):\n",
    "    # Import data from CSV into a panda dataframe from ./extract-2024-01-23T12_29_42.992Z.csv   \n",
    "    df = pd.read_csv(fname, header=0, sep=',', parse_dates=[0], index_col=0)\n",
    "\n",
    "\n",
    "    # print number of rows and columns\n",
    "    print(df.shape)\n",
    "\n",
    "    # print the column names\n",
    "    print(df.columns)\n",
    "\n",
    "    return df\n"
   ]
  },
  {
   "cell_type": "code",
   "execution_count": 5,
   "metadata": {},
   "outputs": [],
   "source": [
    "def preprocess(df):\n",
    "    # get rid of the double quotes first\n",
    "    df['Duration_float'] = df['Duration'].str.replace('\"', '')\n",
    "\n",
    "    #then get rid of the trailing 'ms' or 's' and multiply by 1000 those wich ended to 's' to convert to milliseconds\n",
    "    df['Duration_float'] = df['Duration_float'].str.replace('ms', '')\n",
    "    df['Duration_float'] = df['Duration_float'].str.replace('s', '000')\n",
    "\n",
    "    # convert Duration to float\n",
    "    df['Duration_float'] = df['Duration_float'].astype(float)\n",
    "\n"
   ]
  },
  {
   "cell_type": "markdown",
   "metadata": {},
   "source": [
    "# Active Records statistics"
   ]
  },
  {
   "cell_type": "code",
   "execution_count": 6,
   "metadata": {},
   "outputs": [
    {
     "name": "stdout",
     "output_type": "stream",
     "text": [
      "(33377, 6)\n",
      "Index(['Service', 'Resource', 'Duration', 'Http Method', 'Status Code',\n",
      "       'active_record.instantiation.record_count'],\n",
      "      dtype='object')\n",
      "+---------------------------------------+----------------+--------------------+\n",
      "|                Resource               |    Duration    |    Record count    |\n",
      "+---------------------------------------+----------------+--------------------+\n",
      "|           \"GroupProjectRole\"          | 0:32:18.348800 | 53457.32551020408  |\n",
      "|         \"EntityResponsibility\"        | 0:22:55.798110 | 51118.686440677964 |\n",
      "| \"CustomProjectPlanningAttributeValue\" | 0:20:16.159170 | 13960.707022834986 |\n",
      "|               \"Signoff\"               | 0:15:14.728880 | 68248.12162162163  |\n",
      "|     \"CustomControlAttributeValue\"     | 0:13:45.311350 | 42503.359628770304 |\n",
      "|               \"Control\"               | 0:11:47.960760 | 84361.17026748971  |\n",
      "|             \"ProjectRole\"             | 0:10:45.424460 | 543950.7462028418  |\n",
      "|               \"FlexDate\"              | 0:10:23.401680 | 100471.67842822775 |\n",
      "|              \"Objective\"              | 0:08:57.982200 | 25771.71602126044  |\n",
      "|          \"ProcessWalkthrough\"         | 0:07:24.332390 |  25906.8064516129  |\n",
      "|             \"ControlTest\"             | 0:06:52.856120 | 96941.85446985447  |\n",
      "|                 \"Risk\"                | 0:06:20.251660 | 54914.85102040816  |\n",
      "|             \"Walkthrough\"             | 0:06:17.431150 |  97882.8617234469  |\n",
      "|               \"Finding\"               | 0:06:12.324000 | 29193.759523809524 |\n",
      "|             \"TestingRound\"            | 0:05:14.081570 | 27494.813153961135 |\n",
      "|    \"CustomObjectiveAttributeValue\"    | 0:04:53.709450 | 28134.603448275862 |\n",
      "| \"CustomControlTestPlanAttributeValue\" | 0:04:32.629660 | 27505.892744479494 |\n",
      "|            \"FindingRetest\"            | 0:03:49.140950 | 27490.491002570696 |\n",
      "|       \"CustomRiskAttributeValue\"      | 0:03:47.587360 | 33610.51046025105  |\n",
      "|   \"CustomControlTestAttributeValue\"   | 0:03:47.013380 | 436076.93475815526 |\n",
      "|          \"FindingRemediation\"         | 0:03:35.647920 | 27245.643243243245 |\n",
      "|   \"CustomWalkthroughAttributeValue\"   | 0:03:33.567070 | 247117.8030456853  |\n",
      "|     \"CustomFindingAttributeValue\"     | 0:03:27.809260 | 68608.23781676413  |\n",
      "|              \"RiskScore\"              | 0:03:13.194860 | 15812.182274247492 |\n",
      "|      \"ActsAsTaggableOn::Tagging\"      | 0:03:03.551140 | 66531.24324324324  |\n",
      "|            \"CosoPrinciples\"           | 0:02:51.756460 | 12608.39033457249  |\n",
      "|                \"Audit\"                | 0:02:40.344670 | 17765.438144329895 |\n",
      "|  \"CustomFindingActionAttributeValue\"  | 0:02:35.511590 | 116017.62025316455 |\n",
      "|          \"ControlAssertions\"          | 0:02:03.855170 | 10935.154362416108 |\n",
      "|             \"ProjectFile\"             | 0:02:03.608060 | 19662.50989010989  |\n",
      "|              \"TimeEntry\"              | 0:01:20.412560 | 83919.03504043126  |\n",
      "|        \"ComplianceRequirement\"        | 0:01:15.579710 | 24329.005102040817 |\n",
      "|            \"FindingAction\"            | 0:01:09.653040 | 50268.155844155845 |\n",
      "|              \"Mitigation\"             | 0:01:09.303620 | 40897.477922077924 |\n",
      "|           \"ControlTestPlan\"           | 0:01:08.965410 | 25891.054200542007 |\n",
      "|              \"Membership\"             | 0:00:44.827840 | 20116.26732673267  |\n",
      "|           \"ProjectPlanning\"           | 0:00:43.888720 | 19420.873684210525 |\n",
      "|       \"ExternalReferenceMapping\"      | 0:00:29.936560 | 86070.52173913043  |\n",
      "|       \"AssuranceObjectiveScore\"       | 0:00:27.390960 | 15363.495867768595 |\n",
      "|            \"ActionComment\"            | 0:00:10.738480 | 17937.739130434784 |\n",
      "+---------------------------------------+----------------+--------------------+\n"
     ]
    }
   ],
   "source": [
    "df = import_data('./extract-2024-01-23T12_29_42.992Z.csv')\n",
    "preprocess(df)\n",
    "# group by Resource, sum the Duration and calculate the average active_record.instantiation.record_count\n",
    "df_aggregated = df.groupby('Resource').agg({'Duration_float': 'sum', 'active_record.instantiation.record_count': 'mean'}).sort_values(by=['Duration_float'], ascending=False)\n",
    "\n",
    "# convert Duration to human readable format\n",
    "from prettytable import PrettyTable\n",
    "x = PrettyTable()\n",
    "x.field_names = [\"Resource\", \"Duration\", \"Record count\"]\n",
    "for index, row in df_aggregated.iterrows():\n",
    "    if row['Duration_float'] < 10000: # 10 seconds\n",
    "        break\n",
    "    x.add_row([index, timedelta(milliseconds=row['Duration_float']), row['active_record.instantiation.record_count']])\n",
    "print(x)\n"
   ]
  },
  {
   "cell_type": "markdown",
   "metadata": {},
   "source": [
    "# net/http statistics"
   ]
  },
  {
   "cell_type": "code",
   "execution_count": 7,
   "metadata": {},
   "outputs": [
    {
     "name": "stdout",
     "output_type": "stream",
     "text": [
      "(94438, 7)\n",
      "Index(['Service', 'Resource', 'Duration', 'Http Method', 'Status Code',\n",
      "       'network.destination.ip', 'Request path'],\n",
      "      dtype='object')\n",
      "+-----------------------------------------------------------------------------------+----------------+\n",
      "|                                      Resource                                     |    Duration    |\n",
      "+-----------------------------------------------------------------------------------+----------------+\n",
      "|                          \"sqs.eu-central-1.amazonaws.com\"                         | 8:29:57.649320 |\n",
      "|                              \"accounts.highbond.com\"                              | 4:19:07.784660 |\n",
      "|                                \"apis.highbond.com\"                                | 1:30:06.611890 |\n",
      "|                           \"notifier-configs.airbrake.io\"                          | 0:27:54.017770 |\n",
      "| \"vpc-opensearch-eu-main-tznlywm3luxlqyizpm7ai4kl3e.eu-central-1.es.amazonaws.com\" | 0:15:20.549390 |\n",
      "|          \"projects-eu-central-1-production.s3.eu-central-1.amazonaws.com\"         | 0:07:38.639980 |\n",
      "|                                  \"169.254.170.2\"                                  | 0:01:39.349470 |\n",
      "|                        \"events.eu-central-1.amazonaws.com\"                        | 0:01:18.382500 |\n",
      "|                                \"aclgrc.airbrake.io\"                               | 0:00:23.959330 |\n",
      "|                               \"public.highbond.com\"                               | 0:00:18.475630 |\n",
      "|                          \"impact-reports-eu.highbond.com\"                         | 0:00:12.906310 |\n",
      "+-----------------------------------------------------------------------------------+----------------+\n"
     ]
    }
   ],
   "source": [
    "df = import_data('./extract-httpnet-2024-01-30T16_51_38.690Z.csv')\n",
    "preprocess(df)\n",
    "# group by Resource, sum the Duration and calculate the average active_record.instantiation.record_count\n",
    "df_aggregated = df.groupby('network.destination.ip').agg({'Duration_float': 'sum'}).sort_values(by=['Duration_float'], ascending=False)\n",
    "\n",
    "\n",
    "# convert Duration to human readable format\n",
    "from prettytable import PrettyTable\n",
    "x = PrettyTable()\n",
    "x.field_names = [\"Resource\", \"Duration\"]\n",
    "for index, row in df_aggregated.iterrows():\n",
    "    if row['Duration_float'] < 10000: # 10 seconds\n",
    "        break\n",
    "    x.add_row([index, timedelta(milliseconds=row['Duration_float'])])\n",
    "print(x)\n",
    "\n"
   ]
  },
  {
   "cell_type": "code",
   "execution_count": 17,
   "metadata": {},
   "outputs": [
    {
     "name": "stdout",
     "output_type": "stream",
     "text": [
      "(46918, 8)\n",
      "+-------------------------------------------------------------------------------------------------------------------------------------------------------------------------+----------------+\n",
      "|                                                                                 Resource                                                                                |    Duration    |\n",
      "+-------------------------------------------------------------------------------------------------------------------------------------------------------------------------+----------------+\n",
      "|                                                                          \"/api/users/<user_id>                                                                          | 1:41:50.597510 |\n",
      "|                                                                      \"/api/users/<user_id>/groups\"                                                                      | 1:27:04.386060 |\n",
      "|                                                                           \"/api/sessions/get\"                                                                           | 0:29:58.306690 |\n",
      "|                                                                         \"/api/sessions/refresh\"                                                                         | 0:18:50.449430 |\n",
      "|                                                                           \"/login/oauth/token\"                                                                          | 0:09:37.503750 |\n",
      "| \"/login/oauth/authorize?client_id=50eb701b08cb931a1174a44c2234f02d9647c2998ab089254872cb763ec19b14&redirect_uri=urn%3Aietf%3Awg%3Aoauth%3A2.0%3Aoob&response_type=code\" | 0:06:26.218060 |\n",
      "+-------------------------------------------------------------------------------------------------------------------------------------------------------------------------+----------------+\n"
     ]
    },
    {
     "name": "stderr",
     "output_type": "stream",
     "text": [
      "/var/folders/sb/ph4rxk6j27v6qfqt_n53_bzm0000gq/T/ipykernel_65645/2943032211.py:9: SettingWithCopyWarning: \n",
      "A value is trying to be set on a copy of a slice from a DataFrame.\n",
      "Try using .loc[row_indexer,col_indexer] = value instead\n",
      "\n",
      "See the caveats in the documentation: https://pandas.pydata.org/pandas-docs/stable/user_guide/indexing.html#returning-a-view-versus-a-copy\n",
      "  df_filtered['Request path'] = df_filtered['Request path'].str.replace(r'/users/[^/]+', '/users/<user_id>', regex=True)\n"
     ]
    }
   ],
   "source": [
    "# print \n",
    "\n",
    "# filter df for network.destination.ip=\"accounts.highbond.com\"\n",
    "df_filtered = df[df['network.destination.ip'] == '\"accounts.highbond.com\"']\n",
    "print(df_filtered.shape)\n",
    "\n",
    "\n",
    "# replace the user string in paths like this: /users/ddgx9-9TpvWVqxZzjjsb/groups using regex: r'/users/[^/]+'\n",
    "df_filtered['Request path'] = df_filtered['Request path'].str.replace(r'/users/[^/]+', '/users/<user_id>', regex=True)\n",
    "\n",
    "\n",
    "# aggregate data by 'Request path' and sum the Duration\n",
    "df_aggregated = df_filtered.groupby('Request path').agg({'Duration_float': 'sum'}).sort_values(by=['Duration_float'], ascending=False)\n",
    "\n",
    "\n",
    "\n",
    "# convert Duration to human readable format\n",
    "from prettytable import PrettyTable\n",
    "x = PrettyTable()\n",
    "x.field_names = [\"Resource\", \"Duration\"]\n",
    "for index, row in df_aggregated.iterrows():\n",
    "    if row['Duration_float'] < 10000: # 10 seconds\n",
    "        break\n",
    "    x.add_row([index, timedelta(milliseconds=row['Duration_float'])])\n",
    "print(x)"
   ]
  },
  {
   "cell_type": "code",
   "execution_count": null,
   "metadata": {},
   "outputs": [],
   "source": []
  },
  {
   "cell_type": "code",
   "execution_count": null,
   "metadata": {},
   "outputs": [],
   "source": []
  }
 ],
 "metadata": {
  "kernelspec": {
   "display_name": "Python 3",
   "language": "python",
   "name": "python3"
  },
  "language_info": {
   "codemirror_mode": {
    "name": "ipython",
    "version": 3
   },
   "file_extension": ".py",
   "mimetype": "text/x-python",
   "name": "python",
   "nbconvert_exporter": "python",
   "pygments_lexer": "ipython3",
   "version": "3.11.3"
  }
 },
 "nbformat": 4,
 "nbformat_minor": 2
}
